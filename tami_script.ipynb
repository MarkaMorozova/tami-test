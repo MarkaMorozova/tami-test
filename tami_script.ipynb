{
 "cells": [
  {
   "cell_type": "code",
   "execution_count": 1,
   "metadata": {
    "slideshow": {
     "slide_type": "skip"
    }
   },
   "outputs": [],
   "source": [
    "import matplotlib.pyplot as plt\n",
    "import numpy as np\n",
    "import time\n",
    "import os\n",
    "\n",
    "import tkinter as tk\n",
    "from tkinter import Tk, ttk, Label, Frame, Image, Button, IntVar, Radiobutton, Canvas, PhotoImage\n",
    "from tkinter import messagebox as mb\n",
    "\n",
    "from PIL import Image as Img\n",
    "from PIL import ImageTk"
   ]
  },
  {
   "cell_type": "code",
   "execution_count": 2,
   "metadata": {},
   "outputs": [
    {
     "name": "stdout",
     "output_type": "stream",
     "text": [
      "Participant name_ID_session_date: \n"
     ]
    }
   ],
   "source": [
    "filename = input('Participant name_ID_session_date: ')"
   ]
  },
  {
   "cell_type": "code",
   "execution_count": 3,
   "metadata": {},
   "outputs": [
    {
     "data": {
      "text/plain": [
       "['TAMI-1.png',\n",
       " 'TAMI-10.png',\n",
       " 'TAMI-11.png',\n",
       " 'TAMI-12.png',\n",
       " 'TAMI-13.png',\n",
       " 'TAMI-14.png',\n",
       " 'TAMI-15.png',\n",
       " 'TAMI-16.png',\n",
       " 'TAMI-17.png',\n",
       " 'TAMI-18.png',\n",
       " 'TAMI-19.png',\n",
       " 'TAMI-2.png',\n",
       " 'TAMI-20.png',\n",
       " 'TAMI-21.png',\n",
       " 'TAMI-22.png',\n",
       " 'TAMI-23.png',\n",
       " 'TAMI-24.png',\n",
       " 'TAMI-25.png',\n",
       " 'TAMI-26.png',\n",
       " 'TAMI-3.png',\n",
       " 'TAMI-4.png',\n",
       " 'TAMI-5.png',\n",
       " 'TAMI-6.png',\n",
       " 'TAMI-7.png',\n",
       " 'TAMI-8.png',\n",
       " 'TAMI-9.png']"
      ]
     },
     "execution_count": 3,
     "metadata": {},
     "output_type": "execute_result"
    }
   ],
   "source": [
    "os.listdir('tami_png')"
   ]
  },
  {
   "cell_type": "code",
   "execution_count": 4,
   "metadata": {},
   "outputs": [],
   "source": [
    "answer = np.array([2, 5, 4, 6, 1, 2, 6, 5, 3, 2]) # practice question is not included\n",
    "weight = np.array([1, 2, 1, 4, 2, 4, 1, 1, 5, 3]) # practice question is not included\n",
    "question = [\n",
    "    ['TAMI_png/TAMI-1.png', 'TAMI_png/TAMI-2.png', 'TAMI_png/TAMI-3.png', 'TAMI_png/TAMI-4.png', 'TAMI_png/TAMI-5.png', 'TAMI_png/TAMI add.png'], \n",
    "           ] + [['TAMI_png/TAMI-'+str(i)+'.png', 'TAMI_png/TAMI-'+str(i+1)+'.png'] for i in range(6, 26, 2)]"
   ]
  },
  {
   "cell_type": "code",
   "execution_count": 5,
   "metadata": {},
   "outputs": [
    {
     "data": {
      "text/plain": [
       "[['TAMI_png/TAMI-1.png',\n",
       "  'TAMI_png/TAMI-2.png',\n",
       "  'TAMI_png/TAMI-3.png',\n",
       "  'TAMI_png/TAMI-4.png',\n",
       "  'TAMI_png/TAMI-5.png',\n",
       "  'TAMI_png/TAMI add.png'],\n",
       " ['TAMI_png/TAMI-6.png', 'TAMI_png/TAMI-7.png'],\n",
       " ['TAMI_png/TAMI-8.png', 'TAMI_png/TAMI-9.png'],\n",
       " ['TAMI_png/TAMI-10.png', 'TAMI_png/TAMI-11.png'],\n",
       " ['TAMI_png/TAMI-12.png', 'TAMI_png/TAMI-13.png'],\n",
       " ['TAMI_png/TAMI-14.png', 'TAMI_png/TAMI-15.png'],\n",
       " ['TAMI_png/TAMI-16.png', 'TAMI_png/TAMI-17.png'],\n",
       " ['TAMI_png/TAMI-18.png', 'TAMI_png/TAMI-19.png'],\n",
       " ['TAMI_png/TAMI-20.png', 'TAMI_png/TAMI-21.png'],\n",
       " ['TAMI_png/TAMI-22.png', 'TAMI_png/TAMI-23.png'],\n",
       " ['TAMI_png/TAMI-24.png', 'TAMI_png/TAMI-25.png']]"
      ]
     },
     "execution_count": 5,
     "metadata": {},
     "output_type": "execute_result"
    }
   ],
   "source": [
    "question"
   ]
  },
  {
   "cell_type": "code",
   "execution_count": 6,
   "metadata": {
    "scrolled": false
   },
   "outputs": [],
   "source": [
    "times = np.zeros((10, 2)) # задание высветилось, переключение на варианты ответов, переход на следующее / конец\n",
    "chosen = np.zeros(10)\n",
    "start_finish = np.zeros(2)\n",
    "\n",
    "class Quiz:\n",
    "    \n",
    "    def __init__(self):\n",
    "        \n",
    "        start_finish[0] = time.time()\n",
    "        \n",
    "        self.qno=0\n",
    "        self.counter=0\n",
    "        self.total_size=len(question)\n",
    "        self.correct=0\n",
    "        self.x_pos =  [55, 285, 515, 745, 990] + [175, 835]\n",
    "        self.x_pos = [int(i*1.6) - 40 for i in self.x_pos]\n",
    "        self.y_pos = [220] * 5 + [555] * 2\n",
    "        self.y_pos = [int(i*1.6) + 5 for i in self.y_pos]\n",
    "        self.opt_sel=IntVar()\n",
    "        \n",
    "        self.object_forward_button = None\n",
    "        self.object_back_button = None\n",
    "        \n",
    "        self.object_to_answers = None\n",
    "        self.object_next_question = None\n",
    "        \n",
    "        self.object_q_list = None\n",
    "        \n",
    "        self.q_number_for_part_index = 0\n",
    "        self.part_index = 0\n",
    "        \n",
    "        self.intro()\n",
    "        \n",
    "    def btn_ques(self):\n",
    "        self.counter += 1\n",
    "        self.disp_ques()\n",
    "        \n",
    "    def back_btn(self):\n",
    "        if self.counter > 0:\n",
    "            self.counter -= 1\n",
    "        self.intro()\n",
    "        \n",
    "    def forward_btn(self):\n",
    "        self.counter += 1\n",
    "        self.intro()\n",
    "            \n",
    "    def disp_image(self, filename):        \n",
    "        ws.one = Img.open(filename)\n",
    "        ws.one = ws.one.resize((1920, 1080), Img.ANTIALIAS)\n",
    "        ws.one = ImageTk.PhotoImage(ws.one)\n",
    "        \n",
    "        idImage = canvas.create_image(int(1920/2), int(1080/2), anchor=tk.CENTER, image=ws.one) \n",
    "        canvas.itemconfig(idImage, anchor=tk.CENTER)\n",
    "        \n",
    "    def radio_buttons(self):\n",
    "        \n",
    "        q_list = []\n",
    "\n",
    "        for opt in range(7):\n",
    "\n",
    "            radio_btn = Radiobutton(\n",
    "                ws,\n",
    "                text=\" \",\n",
    "                variable=self.opt_sel,\n",
    "                value = len(q_list)+1,\n",
    "                font = (\"ariel\",14),\n",
    "                bg = 'white',\n",
    "                fg='black'           \n",
    "            )\n",
    "            q_list.append(radio_btn)\n",
    "\n",
    "            radio_btn.place(x = self.x_pos[opt], y = self.y_pos[opt])\n",
    "            \n",
    "        chosen[self.qno] = self.opt_sel.get()\n",
    "\n",
    "        self.object_q_list = q_list\n",
    "        for i in self.object_q_list:\n",
    "            i.SrcDstport.set(None)\n",
    "        \n",
    "    def end_message(self):\n",
    "        correct_count = int((answer == chosen).sum())\n",
    "        wrong_count = 10 - correct_count\n",
    "        correct = f\"Правильных ответов: {correct_count}\"\n",
    "        wrong = f\"Неправильных ответов: {wrong_count}\"\n",
    "\n",
    "        score = int((100*(answer[answer == chosen] * weight[answer == chosen]).sum()) / (( answer * weight ).sum()))\n",
    "        result = f\"Результат с учётом уровня сложности вопросов: {score}%\"\n",
    "\n",
    "        time_spent = start_finish[1] - start_finish[0]\n",
    "        min_spent = int(time_spent // 60)\n",
    "        sec_spent = int(time_spent % 60)\n",
    "        time_phrase = f\"Затраченное время: {min_spent} минут {sec_spent} секунд\"\n",
    "\n",
    "        mb.showinfo('Спасибо за участие!\\n', f\"{time_phrase}\") #{result}\\n{correct}\\n{wrong}\\n\n",
    "        for q in self.object_q_list:\n",
    "            q.place_forget()\n",
    "        \n",
    "    def before_go(self):\n",
    "        chosen[-1] = self.opt_sel.get()\n",
    "        start_finish[1] = time.time()\n",
    "        np.savetxt(filename+'_chosen.txt', chosen)\n",
    "        np.savetxt(filename+'_start_finish.txt', start_finish)\n",
    "        self.end_message()\n",
    "        ws.destroy()\n",
    "        \n",
    "    def disp_ques(self):\n",
    "        \n",
    "        if self.counter == 2:\n",
    "            chosen[self.qno-1] = self.opt_sel.get()\n",
    "            self.qno += 1 \n",
    "            self.counter = 0 \n",
    "            \n",
    "        times[self.q_number_for_part_index, self.part_index] = time.time()\n",
    "        self.disp_image(question[self.qno][self.counter])\n",
    "        self.part_index += 1\n",
    "        if self.part_index == 2:\n",
    "            self.part_index = 0\n",
    "            self.q_number_for_part_index += 1\n",
    "        np.savetxt(filename+'_choice_times.txt', times)\n",
    "        np.savetxt(filename+'_chosen.txt', chosen)\n",
    "        \n",
    "        if (self.counter == 0) and (self.qno == 1):\n",
    "            self.object_to_answers = Button(\n",
    "                ws, \n",
    "                text=\"К вариантам ответов\",\n",
    "                command=self.btn_ques,\n",
    "                width=25,\n",
    "                bg=\"#F2780C\",\n",
    "                fg=\"white\",\n",
    "                font=(\"ariel\",24,\"bold\")\n",
    "            )\n",
    "            self.object_to_answers.place(x=int(940*1.43)+90, y=int(600*1.57))\n",
    "                \n",
    "            self.object_next_question = Button(\n",
    "                ws, \n",
    "                text=\"Следующий вопрос\",\n",
    "                command=self.btn_ques,\n",
    "                width=25,\n",
    "                bg=\"#F2780C\",\n",
    "                fg=\"white\",\n",
    "                font=(\"ariel\",24,\"bold\")\n",
    "            )\n",
    "            self.object_next_question.place_forget()\n",
    "            self.object_to_answers.place_forget()\n",
    "            \n",
    "        if (self.qno == 10) and (self.counter == 1):\n",
    "            self.object_next_question.place_forget()\n",
    "            self.object_to_answers.place_forget()\n",
    "            for i in range(7):\n",
    "                    self.object_q_list[i].place(x = self.x_pos[i], y = self.y_pos[i])\n",
    "            \n",
    "            self.object_forward_button = Button(\n",
    "                ws, \n",
    "                text=\"Закончить тест\",\n",
    "                command = self.before_go,\n",
    "                width=25,\n",
    "                bg=\"#000000\",\n",
    "                fg=\"white\",\n",
    "                font=(\"ariel\",24,\"bold\")\n",
    "            )\n",
    "            self.object_forward_button.place(x=int(1040*1.43), y=int(600*1.57))\n",
    "            \n",
    "        else:\n",
    "            if self.counter == 0:\n",
    "                self.object_next_question.place_forget()\n",
    "                self.object_to_answers.place(x=int(940*1.43)+90, y=int(600*1.57))\n",
    "                for q in self.object_q_list:\n",
    "                    q.place_forget()\n",
    "            elif self.counter == 1:\n",
    "                self.object_to_answers.place_forget()\n",
    "                self.object_next_question.place(x=int(940*1.43)+90, y=int(600*1.57))\n",
    "                for i in range(7):\n",
    "                    self.object_q_list[i].place(x = self.x_pos[i], y = self.y_pos[i])\n",
    "                    \n",
    "    def intro(self):\n",
    "        \n",
    "        if self.counter == 6:\n",
    "            self.qno = 1\n",
    "            self.counter = 0\n",
    "            self.object_forward_button.place_forget()\n",
    "            self.object_back_button.place_forget()\n",
    "            self.object_forward_button = None\n",
    "            self.object_back_button = None\n",
    "            self.disp_ques()\n",
    "            \n",
    "        else:\n",
    "\n",
    "            self.disp_image(question[0][self.counter])\n",
    "\n",
    "            if self.counter == 0:\n",
    "                self.object_forward_button = Button(\n",
    "                    ws, \n",
    "                    text=\"Вперед\",\n",
    "                    command=self.forward_btn,\n",
    "                    width=18,\n",
    "                    bg=\"#F2780C\",\n",
    "                    fg=\"white\",\n",
    "                    font=(\"ariel\",24,\"bold\")\n",
    "                )\n",
    "                self.object_forward_button.place(x=int(1080*1.43), y=int(600*1.57))\n",
    "\n",
    "            elif self.counter == 1:\n",
    "                self.object_back_button = Button(\n",
    "                    ws, \n",
    "                    text=\"Назад\",\n",
    "                    command=self.back_btn,\n",
    "                    width=18,\n",
    "                    bg=\"#F2780C\",\n",
    "                    fg=\"white\",\n",
    "                    font=(\"ariel\",24,\"bold\")\n",
    "                )\n",
    "                self.object_back_button.place(x=int(60*1.43), y=int(600*1.57))\n",
    "                \n",
    "            elif self.counter == 3:\n",
    "                self.radio_buttons()\n",
    "            \n",
    "            elif self.counter == 4:\n",
    "                for q in self.object_q_list:\n",
    "                    q.place_forget()\n",
    "            \n",
    "ws = Tk()\n",
    "\n",
    "startframe = Frame(ws)\n",
    "canvas = Canvas(startframe, width=1920, height=1080)\n",
    "\n",
    "startframe.pack()\n",
    "canvas.pack()\n",
    "\n",
    "ws.title(\"Проверка способностей к моторному воображению\")\n",
    "\n",
    "quiz = Quiz()\n",
    "\n",
    "ws.mainloop()"
   ]
  },
  {
   "cell_type": "code",
   "execution_count": 7,
   "metadata": {},
   "outputs": [
    {
     "data": {
      "text/plain": [
       "array([0., 0., 0., 0., 0., 0., 0., 0., 0., 0.])"
      ]
     },
     "execution_count": 7,
     "metadata": {},
     "output_type": "execute_result"
    }
   ],
   "source": [
    "chosen"
   ]
  },
  {
   "cell_type": "code",
   "execution_count": 8,
   "metadata": {},
   "outputs": [
    {
     "data": {
      "text/plain": [
       "array([False, False, False, False, False, False, False, False, False,\n",
       "       False])"
      ]
     },
     "execution_count": 8,
     "metadata": {},
     "output_type": "execute_result"
    }
   ],
   "source": [
    "chosen == answer"
   ]
  },
  {
   "cell_type": "code",
   "execution_count": 9,
   "metadata": {},
   "outputs": [
    {
     "data": {
      "text/plain": [
       "0"
      ]
     },
     "execution_count": 9,
     "metadata": {},
     "output_type": "execute_result"
    }
   ],
   "source": [
    "(chosen == answer).sum()"
   ]
  },
  {
   "cell_type": "code",
   "execution_count": 10,
   "metadata": {},
   "outputs": [
    {
     "data": {
      "text/plain": [
       "0.0"
      ]
     },
     "execution_count": 10,
     "metadata": {},
     "output_type": "execute_result"
    }
   ],
   "source": [
    "(weight[chosen == answer].sum()) / weight.sum()"
   ]
  },
  {
   "cell_type": "code",
   "execution_count": 11,
   "metadata": {},
   "outputs": [
    {
     "name": "stdout",
     "output_type": "stream",
     "text": [
      "0.0\n",
      "0.0\n",
      "0.0\n",
      "0.0\n",
      "0.0\n",
      "0.0\n",
      "0.0\n",
      "0.0\n",
      "0.0\n",
      "0.0\n",
      "0.0\n",
      "0.0\n",
      "0.0\n",
      "0.0\n",
      "0.0\n",
      "0.0\n",
      "0.0\n",
      "0.0\n",
      "0.0\n",
      "0.0\n",
      "1658323485.5962102 0.0\n"
     ]
    }
   ],
   "source": [
    "[print(j) for i in times for j in i]\n",
    "print(start_finish[0], start_finish[1])"
   ]
  },
  {
   "cell_type": "code",
   "execution_count": null,
   "metadata": {},
   "outputs": [],
   "source": []
  },
  {
   "cell_type": "code",
   "execution_count": null,
   "metadata": {},
   "outputs": [],
   "source": []
  },
  {
   "cell_type": "code",
   "execution_count": null,
   "metadata": {},
   "outputs": [],
   "source": []
  }
 ],
 "metadata": {
  "kernelspec": {
   "display_name": "Python 3",
   "language": "python",
   "name": "python3"
  },
  "language_info": {
   "codemirror_mode": {
    "name": "ipython",
    "version": 3
   },
   "file_extension": ".py",
   "mimetype": "text/x-python",
   "name": "python",
   "nbconvert_exporter": "python",
   "pygments_lexer": "ipython3",
   "version": "3.8.5"
  }
 },
 "nbformat": 4,
 "nbformat_minor": 4
}
